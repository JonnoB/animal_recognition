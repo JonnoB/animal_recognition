{
 "cells": [
  {
   "cell_type": "markdown",
   "id": "f74ded15-b3b4-4833-8b63-ba85bc7799b1",
   "metadata": {},
   "source": [
    "# Work Diary\n",
    "\n",
    "This diarry is simply a notebook of where I am what I am doing and where I am going next. It is an electronic version of the paper diary without the long term planning\n",
    "\n",
    "# Next 7 days\n",
    "\n",
    "- Tidy up the script so the data prep can be one click run. \n",
    "- Create an external helper file to keep the code simple and tidy\n",
    "- Get the code on github\n",
    "- change the file function so that blank images are included in the training set\n",
    "\n",
    "# Next 30 days\n",
    "\n",
    "- Retrain the yolo model with wildebeast and something else with lots of pictures\n",
    "- get model performance\n",
    "- download lots of wildebeast pictures\n",
    "- Retrain with none of the trainin wildebeast images\n",
    "- compare performance\n",
    "\n",
    "## 07-01-24\n",
    "\n",
    "Today I fixed the issue with not being able to create symlinks. This means that I no longer need to copy files and take up lots of space but instead create a parallel train and test folders ppopulated by symlinks which is much faster and much less space. This means I can have the data structures for multiple experiments without issue.\n",
    "**Tomorrow**\n",
    "Fix the function `process_image` so that I can run it without errors. I am not sure what the issue is but it is probably a relatively simple fix that may not even involve the function\n",
    "\n",
    "## 14-01-24\n",
    "\n",
    "Today I fixed the `process_image` function. I found that Yolo and PIL could not open the files anymore but cv2 could. I don't know why and don't want to investigate.\n",
    "I created the helper file and tided up the code it is not 1 click runnable.\n",
    "\n",
    "### Tomorrow\n",
    "\n",
    "- get model performance\n",
    "- download wildebeast images\n",
    "- add in some empty images\n",
    "- create new yolo yaml for wildebeast"
   ]
  }
 ],
 "metadata": {
  "kernelspec": {
   "display_name": "Python 3 (ipykernel)",
   "language": "python",
   "name": "python3"
  },
  "language_info": {
   "codemirror_mode": {
    "name": "ipython",
    "version": 3
   },
   "file_extension": ".py",
   "mimetype": "text/x-python",
   "name": "python",
   "nbconvert_exporter": "python",
   "pygments_lexer": "ipython3",
   "version": "3.9.13"
  }
 },
 "nbformat": 4,
 "nbformat_minor": 5
}
