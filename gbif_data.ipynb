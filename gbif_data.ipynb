{
 "cells": [
  {
   "cell_type": "markdown",
   "metadata": {},
   "source": [
    "# Getting data from GBIF\n",
    "\n",
    "This notebook is simply a scrap book for me to work out how to efficiently get images from GBIF and onto an appropriate storage system\n",
    "\n",
    "\n",
    "## Storage\n",
    "\n",
    "Storage is already somewhat of an issue. If I want to store anymore data I will need to buy additional storage. papersapce is $0.29 as I guess they want us to use digital ocean storage which is $0.02 GiB. The answer is pretty clear. Buy $5 month of storage from digital ocean and download a bunch of images to the storage bucket. Mount the bucket then train using the mounted bucket... I will have to find out if my symlink approach still works"
   ]
  }
 ],
 "metadata": {
  "language_info": {
   "name": "python"
  }
 },
 "nbformat": 4,
 "nbformat_minor": 2
}
